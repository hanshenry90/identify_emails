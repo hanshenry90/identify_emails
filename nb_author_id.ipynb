{
 "cells": [
  {
   "cell_type": "markdown",
   "metadata": {},
   "source": [
    "\n",
    "#    Machine Learning Engineer Nanodegree\n",
    "###   Supervised Learning\n",
    "###    Mini Project: Identify emails by their authors and labels\n"
   ]
  },
  {
   "cell_type": "markdown",
   "metadata": {},
   "source": [
    "### Eploring the words/features in emails written by Chris and Sara"
   ]
  },
  {
   "cell_type": "code",
   "execution_count": 46,
   "metadata": {
    "collapsed": false
   },
   "outputs": [],
   "source": [
    "import pickle\n",
    "f = open('email_authors.pkl', 'rb')\n",
    "labels = pickle.load(f)\n",
    "k = open('word_data.pkl', 'rb')\n",
    "words = pickle.load(k)"
   ]
  },
  {
   "cell_type": "code",
   "execution_count": 53,
   "metadata": {
    "collapsed": false
   },
   "outputs": [
    {
     "data": {
      "text/html": [
       "<div>\n",
       "<table border=\"1\" class=\"dataframe\">\n",
       "  <thead>\n",
       "    <tr style=\"text-align: right;\">\n",
       "      <th></th>\n",
       "      <th>Texts in Sarah and Chris emails</th>\n",
       "    </tr>\n",
       "  </thead>\n",
       "  <tbody>\n",
       "    <tr>\n",
       "      <th>0</th>\n",
       "      <td>sbaile2 nonprivilegedpst susan pleas send the...</td>\n",
       "    </tr>\n",
       "    <tr>\n",
       "      <th>1</th>\n",
       "      <td>sbaile2 nonprivilegedpst 1 txu energi trade c...</td>\n",
       "    </tr>\n",
       "    <tr>\n",
       "      <th>2</th>\n",
       "      <td>sbaile2 nonprivilegedpst all here the second ...</td>\n",
       "    </tr>\n",
       "    <tr>\n",
       "      <th>3</th>\n",
       "      <td>sbaile2 nonprivilegedpst   enron wholesal ser...</td>\n",
       "    </tr>\n",
       "    <tr>\n",
       "      <th>4</th>\n",
       "      <td>sbaile2 nonprivilegedpst origin messag from  ...</td>\n",
       "    </tr>\n",
       "    <tr>\n",
       "      <th>5</th>\n",
       "      <td>sbaile2 nonprivilegedpst we need to research ...</td>\n",
       "    </tr>\n",
       "    <tr>\n",
       "      <th>6</th>\n",
       "      <td>sbaile2 nonprivilegedpst we cannot locat ani ...</td>\n",
       "    </tr>\n",
       "    <tr>\n",
       "      <th>7</th>\n",
       "      <td>sbaile2 nonprivilegedpst origin messag from d...</td>\n",
       "    </tr>\n",
       "    <tr>\n",
       "      <th>8</th>\n",
       "      <td>sbaile2 nonprivilegedpst did domin carolan al...</td>\n",
       "    </tr>\n",
       "    <tr>\n",
       "      <th>9</th>\n",
       "      <td>sbaile2 nonprivilegedpst weezi pleas email th...</td>\n",
       "    </tr>\n",
       "  </tbody>\n",
       "</table>\n",
       "</div>"
      ],
      "text/plain": [
       "                     Texts in Sarah and Chris emails\n",
       "0   sbaile2 nonprivilegedpst susan pleas send the...\n",
       "1   sbaile2 nonprivilegedpst 1 txu energi trade c...\n",
       "2   sbaile2 nonprivilegedpst all here the second ...\n",
       "3   sbaile2 nonprivilegedpst   enron wholesal ser...\n",
       "4   sbaile2 nonprivilegedpst origin messag from  ...\n",
       "5   sbaile2 nonprivilegedpst we need to research ...\n",
       "6   sbaile2 nonprivilegedpst we cannot locat ani ...\n",
       "7   sbaile2 nonprivilegedpst origin messag from d...\n",
       "8   sbaile2 nonprivilegedpst did domin carolan al...\n",
       "9   sbaile2 nonprivilegedpst weezi pleas email th..."
      ]
     },
     "execution_count": 53,
     "metadata": {},
     "output_type": "execute_result"
    }
   ],
   "source": [
    "import pandas as pd\n",
    "import numpy as np\n",
    "df = pd.DataFrame(np.array(words), columns = ['Texts in Sarah and Chris emails'])\n",
    "df.head(10)"
   ]
  },
  {
   "cell_type": "markdown",
   "metadata": {},
   "source": [
    "Create and train a Naive Bayes classifier in naive_bayes/nb_author_id.py. Use it to make predictions for the test set. What is the accuracy?\n",
    "\n",
    "When training you may see the following error: UserWarning: Duplicate scores. Result may depend on feature ordering.There are probably duplicate features, or you used a classification score for a regression task. warn(\"Duplicate scores. Result may depend on feature ordering.\")\n",
    "\n",
    "This is a warning that two or more words happen to have the same usage patterns in the emails--as far as the algorithm is concerned, this means that two features are the same. Some algorithms will actually break (mathematically won’t work) or give multiple different answers (depending on feature ordering) when there are duplicate features and sklearn is giving us a warning. Good information, but not something we have to worry about.\n",
    "\n",
    "An important topic that we didn’t explicitly talk about is the time to train and test our algorithms. Put in two lines of code, above and below the line fitting your classifier, like this:\n",
    "\n",
    "t0 = time()\n",
    "< your clf.fit() line of code >\n",
    "print \"training time:\", round(time()-t0, 3), \"s\"\n",
    "\n",
    "Put similar lines of code around the clf.predict() line of code, so you can compare the time to train the classifier and to make predictions with it. What is faster, training or prediction?\n",
    "\n",
    "We will compare the Naive Bayes timing to a couple other algorithms, so note down the speed and accuracy you get and we’ll revisit this in the next mini-project."
   ]
  },
  {
   "cell_type": "code",
   "execution_count": 42,
   "metadata": {
    "collapsed": false
   },
   "outputs": [
    {
     "name": "stdout",
     "output_type": "stream",
     "text": [
      "no. of Chris training emails: 7936\n",
      "no. of Sara training emails: 7884\n",
      "Training time: 0.119 s\n",
      "Prediction time: 0.01 s\n",
      "The accuracy is of Naive Bayes is: 0.920364050057\n"
     ]
    }
   ],
   "source": [
    "import sys\n",
    "from time import time\n",
    "sys.path.append(\"../tools/\")\n",
    "from email_preprocess import preprocess\n",
    "\n",
    "\n",
    "### features_train and features_test are the features for the training\n",
    "### and testing datasets, respectively\n",
    "### labels_train and labels_test are the corresponding item labels\n",
    "features_train, features_test, labels_train, labels_test = preprocess()\n",
    "\n",
    "from sklearn.naive_bayes import GaussianNB\n",
    "from sklearn.metrics import accuracy_score\n",
    "\n",
    "clf = GaussianNB()\n",
    "\n",
    "t0 = time()\n",
    "clf.fit(features_train, labels_train)\n",
    "t1 = time()\n",
    "print \"Training time:\", round(t1-t0, 3), \"s\"\n",
    "\n",
    "t2 = time()\n",
    "y_pred = clf.predict(features_test)\n",
    "t3 = time()\n",
    "print \"Prediction time:\", round(t3-t2, 3), \"s\"\n",
    "\n",
    "\n",
    "print \"The accuracy is of Naive Bayes is:\", accuracy_score(labels_test, y_pred)\n",
    "\n"
   ]
  }
 ],
 "metadata": {
  "kernelspec": {
   "display_name": "Python 2",
   "language": "python",
   "name": "python2"
  },
  "language_info": {
   "codemirror_mode": {
    "name": "ipython",
    "version": 2
   },
   "file_extension": ".py",
   "mimetype": "text/x-python",
   "name": "python",
   "nbconvert_exporter": "python",
   "pygments_lexer": "ipython2",
   "version": "2.7.13"
  }
 },
 "nbformat": 4,
 "nbformat_minor": 2
}
